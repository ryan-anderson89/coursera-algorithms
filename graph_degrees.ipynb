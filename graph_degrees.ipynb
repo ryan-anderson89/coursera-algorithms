{
 "cells": [
  {
   "cell_type": "code",
   "execution_count": 4,
   "metadata": {
    "collapsed": false
   },
   "outputs": [],
   "source": [
    "#%%file graph_degrees.py\n",
    "'''implements directed graph examples and functions to generate a complete directed\n",
    "graph of n points, determine in-degrees of directed graphs and in-degree \n",
    "distribution of directed graphs'''\n",
    "from collections import Counter\n",
    "\n",
    "EX_GRAPH0 = {0:{1,2},\n",
    "            1:set(),\n",
    "            2:set()}\n",
    "\n",
    "EX_GRAPH1 = {0:{1,4,5},\n",
    "            1:{2,6},\n",
    "            2:{3},\n",
    "            3:{0},\n",
    "            4:{1},\n",
    "            5:{2},\n",
    "            6:set()}\n",
    "\n",
    "EX_GRAPH2 = {0:{1,4,5},\n",
    "            1:{2,6},\n",
    "            2:{3,7},\n",
    "            3:{7},\n",
    "            4:{1},\n",
    "            5:{2},\n",
    "            6:set(),\n",
    "            7:{3},\n",
    "            8:{1,2},\n",
    "            9:{0,3,4,5,6,7}}\n",
    "\n",
    "def make_complete_graph(num_nodes):\n",
    "    '''given a number of nodes, returns a dictionary representation\n",
    "    of a complete directed graph with the specified number of nodes.\n",
    "    returns an empty dict if an invalid number of nodes is given'''\n",
    "    if num_nodes <= 0:\n",
    "        return dict()\n",
    "    else:\n",
    "        nodes = set(range(num_nodes))\n",
    "        return {node: set(neighbor for neighbor in nodes - {node})\n",
    "                for node in nodes}\n",
    "\n",
    "def dict_value_counts(dictionary):\n",
    "    '''given a dictionary, returns a new dict with values of the original\n",
    "    as keys and the count of each original value as the new value'''\n",
    "    return dict(Counter(value for key in dictionary for value in dictionary[key]))\n",
    "    \n",
    "def compute_in_degrees(digraph):\n",
    "    '''given a directed graph digraph, computes the in-degrees for\n",
    "    each node in the graph. returns a dictionary with the same keys\n",
    "    as the digraph and a count of edges with that node as a head'''\n",
    "    count = dict_value_counts(digraph)\n",
    "    for key in digraph:\n",
    "        if key not in count:\n",
    "            count[key] = 0\n",
    "    return count\n",
    "\n",
    "def in_degree_distribution(digraph):\n",
    "    '''given a directed graph digraph, computes the unnormalized\n",
    "    distribution of the in-degrees of the graph. returns a dict\n",
    "    with keys equal to the in-degrees of nodes in the graph.'''\n",
    "    in_degrees = compute_in_degrees(digraph)\n",
    "    return dict(Counter(in_degrees.values()))"
   ]
  },
  {
   "cell_type": "code",
   "execution_count": 96,
   "metadata": {
    "collapsed": false
   },
   "outputs": [
    {
     "name": "stdout",
     "output_type": "stream",
     "text": [
      "{0: {1, 2, 3, 4}, 1: {0, 2, 3, 4}, 2: {0, 1, 3, 4}, 3: {0, 1, 2, 4}, 4: {0, 1, 2, 3}}\n"
     ]
    }
   ],
   "source": [
    "print(make_complete_graph(5))"
   ]
  },
  {
   "cell_type": "code",
   "execution_count": 99,
   "metadata": {
    "collapsed": false
   },
   "outputs": [
    {
     "name": "stdout",
     "output_type": "stream",
     "text": [
      "{0: 0, 1: 1, 2: 1}\n"
     ]
    }
   ],
   "source": [
    "print(compute_in_degrees(EX_GRAPH0))"
   ]
  },
  {
   "cell_type": "code",
   "execution_count": 98,
   "metadata": {
    "collapsed": false
   },
   "outputs": [
    {
     "name": "stdout",
     "output_type": "stream",
     "text": [
      "{0: 1, 1: 2}\n"
     ]
    }
   ],
   "source": [
    "print(in_degree_distribution(EX_GRAPH0))"
   ]
  },
  {
   "cell_type": "code",
   "execution_count": 1,
   "metadata": {
    "collapsed": true
   },
   "outputs": [],
   "source": [
    "import random\n",
    "\n",
    "def make_partial_graph(num_nodes, p):\n",
    "    '''given a number of nodes, returns a dictionary representation\n",
    "    of a complete directed graph with the specified number of nodes.\n",
    "    returns an empty dict if an invalid number of nodes is given'''\n",
    "    if num_nodes <= 0:\n",
    "        return dict()\n",
    "    else:\n",
    "        nodes = set(range(num_nodes))\n",
    "        return {node: set(neighbor for neighbor in nodes - {node} if random.random() > p)\n",
    "                for node in nodes}"
   ]
  },
  {
   "cell_type": "code",
   "execution_count": 25,
   "metadata": {
    "collapsed": true
   },
   "outputs": [],
   "source": [
    "graph = make_partial_graph(1000, .9)"
   ]
  },
  {
   "cell_type": "code",
   "execution_count": 26,
   "metadata": {
    "collapsed": true
   },
   "outputs": [],
   "source": [
    "idd = in_degree_distribution(graph)"
   ]
  },
  {
   "cell_type": "code",
   "execution_count": 27,
   "metadata": {
    "collapsed": false
   },
   "outputs": [
    {
     "data": {
      "text/plain": [
       "{75: 2,\n",
       " 76: 1,\n",
       " 78: 2,\n",
       " 79: 2,\n",
       " 80: 4,\n",
       " 81: 6,\n",
       " 82: 10,\n",
       " 83: 6,\n",
       " 84: 8,\n",
       " 85: 8,\n",
       " 86: 11,\n",
       " 87: 22,\n",
       " 88: 22,\n",
       " 89: 23,\n",
       " 90: 25,\n",
       " 91: 28,\n",
       " 92: 31,\n",
       " 93: 36,\n",
       " 94: 32,\n",
       " 95: 41,\n",
       " 96: 45,\n",
       " 97: 30,\n",
       " 98: 48,\n",
       " 99: 60,\n",
       " 100: 43,\n",
       " 101: 41,\n",
       " 102: 39,\n",
       " 103: 33,\n",
       " 104: 30,\n",
       " 105: 32,\n",
       " 106: 31,\n",
       " 107: 25,\n",
       " 108: 27,\n",
       " 109: 32,\n",
       " 110: 38,\n",
       " 111: 25,\n",
       " 112: 15,\n",
       " 113: 13,\n",
       " 114: 8,\n",
       " 115: 10,\n",
       " 116: 3,\n",
       " 117: 3,\n",
       " 118: 7,\n",
       " 119: 9,\n",
       " 120: 8,\n",
       " 121: 3,\n",
       " 122: 4,\n",
       " 123: 2,\n",
       " 124: 5,\n",
       " 125: 1,\n",
       " 126: 2,\n",
       " 127: 2,\n",
       " 128: 2,\n",
       " 129: 2,\n",
       " 130: 1,\n",
       " 132: 1}"
      ]
     },
     "execution_count": 27,
     "metadata": {},
     "output_type": "execute_result"
    }
   ],
   "source": [
    "idd"
   ]
  },
  {
   "cell_type": "code",
   "execution_count": null,
   "metadata": {
    "collapsed": true
   },
   "outputs": [],
   "source": []
  }
 ],
 "metadata": {
  "kernelspec": {
   "display_name": "Python 3",
   "language": "python",
   "name": "python3"
  },
  "language_info": {
   "codemirror_mode": {
    "name": "ipython",
    "version": 3
   },
   "file_extension": ".py",
   "mimetype": "text/x-python",
   "name": "python",
   "nbconvert_exporter": "python",
   "pygments_lexer": "ipython3",
   "version": "3.4.2"
  }
 },
 "nbformat": 4,
 "nbformat_minor": 0
}
