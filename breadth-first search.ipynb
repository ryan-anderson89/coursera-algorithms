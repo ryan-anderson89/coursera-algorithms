{
 "cells": [
  {
   "cell_type": "code",
   "execution_count": 18,
   "metadata": {
    "collapsed": true
   },
   "outputs": [],
   "source": [
    "from collections import deque"
   ]
  },
  {
   "cell_type": "code",
   "execution_count": 146,
   "metadata": {
    "collapsed": false
   },
   "outputs": [
    {
     "name": "stdout",
     "output_type": "stream",
     "text": [
      "Overwriting breadth_first_search.py\n"
     ]
    }
   ],
   "source": [
    "%%file breadth_first_search.py\n",
    "'''module implements a breadth-first search algorithm, computes the set of\n",
    "connected components of an undirected graph and determines the size of the\n",
    "largest connected component. Also implements a function that computes the\n",
    "resilience of a graph as nodes are deleted from it.'''\n",
    "\n",
    "from collections import deque\n",
    "\n",
    "def bfs_visited(ugraph, start_node):\n",
    "    '''takes the provided undirected graph ugraph and the node start_node\n",
    "    and returns the set consisting of all nodes that are visited by a \n",
    "    breadth-first search that starts at start_node'''\n",
    "    queue = deque()\n",
    "    visited = {start_node}\n",
    "    queue.append(start_node)\n",
    "    while queue:\n",
    "        next_node = queue.popleft()\n",
    "        for neighbor in ugraph[next_node]:\n",
    "            if neighbor not in visited:\n",
    "                visited.update({neighbor})\n",
    "                queue.append(neighbor)\n",
    "    return visited\n",
    "\n",
    "def cc_visited(ugraph):\n",
    "    '''takes the undirected graph ugraph and returns a list of sets, where\n",
    "    each set consists of all the nodes in a connected component. There is one\n",
    "    set in the list for each connected component in ugraph and nothing else'''\n",
    "    remaining_nodes = list(ugraph.keys())\n",
    "    connected_components = []\n",
    "    while remaining_nodes:\n",
    "        node = remaining_nodes[0]\n",
    "        visited = bfs_visited(ugraph, node)\n",
    "        connected_components.append(visited)\n",
    "        for vnode in visited:\n",
    "            remaining_nodes.remove(vnode)\n",
    "    return connected_components\n",
    "    \n",
    "def largest_cc_size(ugraph):\n",
    "    '''takes the undirected graph ugraph and returns the size of the largest\n",
    "    connected component in ugraph'''\n",
    "    connected_components = cc_visited(ugraph)\n",
    "    if not connected_components:\n",
    "        return 0\n",
    "    return max([len(component) for component in connected_components])\n",
    "\n",
    "def compute_resilience(ugraph, attack_order):\n",
    "    '''takes the undirected graph ugraph and a list of nodes attack_order and\n",
    "    iterates through the nodes in attack_order. For each node in the list, the\n",
    "    function removes the given node and its edges from the graph and then\n",
    "    computes the size of the largest connected compontent for the resulting\n",
    "    graph. Returns a list whose k+1 entry in the size of the largest connected\n",
    "    component in the resulting graphs after the removal of the first k nodes\n",
    "    in attack_order'''\n",
    "    attack_result = [largest_cc_size(ugraph)]\n",
    "    for node in attack_order:\n",
    "        for neighbor in ugraph[node]:\n",
    "            ugraph[neighbor].remove(node)\n",
    "        del(ugraph[node])\n",
    "        attack_result.append(largest_cc_size(ugraph))\n",
    "    return attack_result"
   ]
  },
  {
   "cell_type": "code",
   "execution_count": 145,
   "metadata": {
    "collapsed": false
   },
   "outputs": [],
   "source": [
    "GRAPH0 = {0: set([1]),\n",
    "          1: set([0, 2]),\n",
    "          2: set([1, 3]),\n",
    "          3: set([2]),\n",
    "          4: set([5]),\n",
    "          5: set([4])}\n",
    "\n",
    "assert(bfs_visited(GRAPH0, 0) == {0, 1, 2, 3})\n",
    "\n",
    "assert(bfs_visited(GRAPH0, 4) == {4, 5})\n",
    "\n",
    "assert(cc_visited(GRAPH0) == [{0, 1, 2, 3}, {4, 5}])\n",
    "\n",
    "assert(largest_cc_size(GRAPH0) == 4)\n",
    "\n",
    "assert(compute_resilience(GRAPH0, [0, 1, 2, 3, 4, 5]) == [4, 3, 2, 2, 2, 1, 0])"
   ]
  }
 ],
 "metadata": {
  "kernelspec": {
   "display_name": "Python 3",
   "language": "python",
   "name": "python3"
  },
  "language_info": {
   "codemirror_mode": {
    "name": "ipython",
    "version": 3
   },
   "file_extension": ".py",
   "mimetype": "text/x-python",
   "name": "python",
   "nbconvert_exporter": "python",
   "pygments_lexer": "ipython3",
   "version": "3.4.3"
  }
 },
 "nbformat": 4,
 "nbformat_minor": 0
}
