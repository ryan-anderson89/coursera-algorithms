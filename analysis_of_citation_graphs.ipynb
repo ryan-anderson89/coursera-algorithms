{
 "cells": [
  {
   "cell_type": "code",
   "execution_count": 1,
   "metadata": {
    "collapsed": false
   },
   "outputs": [],
   "source": [
    "'''code for project 1'''\n",
    "from urllib.request import urlopen\n",
    "import graph_degrees\n",
    "import matplotlib.pyplot as plt\n",
    "import seaborn as sns\n",
    "%matplotlib inline\n",
    "\n",
    "def load_graph(graph_url):\n",
    "    '''load the text file of the graph into a dictionary'''\n",
    "    graph_text = urlopen(graph_url)\n",
    "    proc_line = lambda line: line.decode().strip().split(' ')\n",
    "    graph = {proc_line(line)[0]: set(proc_line(line)[1:]) for line in graph_text}\n",
    "    return graph\n",
    "\n",
    "def normalize_distribution(degree_distribution):\n",
    "    '''normalized a degree_distribution so that values sum up to 1'''\n",
    "    total = sum(degree_distribution.values())\n",
    "    return {k: degree_distribution[k]/total for k in degree_distribution}\n",
    "    "
   ]
  },
  {
   "cell_type": "code",
   "execution_count": 24,
   "metadata": {
    "collapsed": false
   },
   "outputs": [],
   "source": [
    "graph = load_graph('http://storage.googleapis.com/codeskulptor-alg/alg_phys-cite.txt')"
   ]
  },
  {
   "cell_type": "code",
   "execution_count": 32,
   "metadata": {
    "collapsed": false
   },
   "outputs": [
    {
     "name": "stdout",
     "output_type": "stream",
     "text": [
      "27770 12.703204897371265\n"
     ]
    }
   ],
   "source": [
    "import math\n",
    "print(len(graph), len([j for i in graph.values() for j in i])/len(graph))"
   ]
  },
  {
   "cell_type": "code",
   "execution_count": 47,
   "metadata": {
    "collapsed": false
   },
   "outputs": [],
   "source": [
    "distribution = graph_degrees.in_degree_distribution(graph)"
   ]
  },
  {
   "cell_type": "code",
   "execution_count": 48,
   "metadata": {
    "collapsed": false
   },
   "outputs": [],
   "source": [
    "normed_distribution = normalize_distribution(distribution)"
   ]
  },
  {
   "cell_type": "code",
   "execution_count": 49,
   "metadata": {
    "collapsed": false
   },
   "outputs": [
    {
     "data": {
      "text/plain": [
       "<matplotlib.text.Text at 0xf2351d0>"
      ]
     },
     "execution_count": 49,
     "metadata": {},
     "output_type": "execute_result"
    },
    {
     "data": {
      "image/png": "[encoded data removed]",
      "text/plain": [
       "<matplotlib.figure.Figure at 0x9a4e198>"
      ]
     },
     "metadata": {},
     "output_type": "display_data"
    }
   ],
   "source": [
    "normed_distribution = {k: v for (k, v) in normed_distribution.items() if v > 0}\n",
    "plt.loglog(list(normed_distribution.keys()), list(normed_distribution.values()), 'o', basex=10, basey=10)\n",
    "plt.xlabel('In-Degrees')\n",
    "plt.ylabel('Normalized Distribution')\n",
    "plt.title('Distribution of In-Degrees - DPA Algo')"
   ]
  },
  {
   "cell_type": "code",
   "execution_count": 18,
   "metadata": {
    "collapsed": true
   },
   "outputs": [],
   "source": [
    "import random\n",
    "\n",
    "def make_partial_graph(num_nodes, p):\n",
    "    '''given a number of nodes, returns a dictionary representation\n",
    "    of a complete directed graph with the specified number of nodes.\n",
    "    returns an empty dict if an invalid number of nodes is given'''\n",
    "    if num_nodes <= 0:\n",
    "        return dict()\n",
    "    else:\n",
    "        nodes = set(range(num_nodes))\n",
    "        return {node: set(neighbor for neighbor in nodes - {node} if random.random() > p)\n",
    "                for node in nodes}\n",
    "\n",
    "graph = make_partial_graph(250, .5)"
   ]
  },
  {
   "cell_type": "code",
   "execution_count": 30,
   "metadata": {
    "collapsed": false
   },
   "outputs": [
    {
     "data": {
      "text/plain": [
       "{0: {1, 2, 3, 4, 5, 6, 7, 8, 9, 10, 11},\n",
       " 1: {0, 2, 3, 4, 5, 6, 7, 8, 9, 10, 11},\n",
       " 2: {0, 1, 3, 4, 5, 6, 7, 8, 9, 10, 11},\n",
       " 3: {0, 1, 2, 4, 5, 6, 7, 8, 9, 10, 11},\n",
       " 4: {0, 1, 2, 3, 5, 6, 7, 8, 9, 10, 11},\n",
       " 5: {0, 1, 2, 3, 4, 6, 7, 8, 9, 10, 11},\n",
       " 6: {0, 1, 2, 3, 4, 5, 7, 8, 9, 10, 11},\n",
       " 7: {0, 1, 2, 3, 4, 5, 6, 8, 9, 10, 11},\n",
       " 8: {0, 1, 2, 3, 4, 5, 6, 7, 9, 10, 11},\n",
       " 9: {0, 1, 2, 3, 4, 5, 6, 7, 8, 10, 11},\n",
       " 10: {0, 1, 2, 3, 4, 5, 6, 7, 8, 9, 11},\n",
       " 11: {0, 1, 2, 3, 4, 5, 6, 7, 8, 9, 10}}"
      ]
     },
     "execution_count": 30,
     "metadata": {},
     "output_type": "execute_result"
    }
   ],
   "source": [
    "graph = graph_degrees.make_complete_graph(12)\n",
    "graph"
   ]
  },
  {
   "cell_type": "code",
   "execution_count": 46,
   "metadata": {
    "collapsed": false
   },
   "outputs": [
    {
     "name": "stdout",
     "output_type": "stream",
     "text": [
      "added 1000 nodes\n",
      "added 2000 nodes\n",
      "added 3000 nodes\n",
      "added 4000 nodes\n",
      "added 5000 nodes\n",
      "added 6000 nodes\n",
      "added 7000 nodes\n",
      "added 8000 nodes\n",
      "added 9000 nodes\n",
      "added 10000 nodes\n",
      "added 11000 nodes\n",
      "added 12000 nodes\n",
      "added 13000 nodes\n",
      "added 14000 nodes\n",
      "added 15000 nodes\n",
      "added 16000 nodes\n",
      "added 17000 nodes\n",
      "added 18000 nodes\n",
      "added 19000 nodes\n",
      "added 20000 nodes\n",
      "added 21000 nodes\n",
      "added 22000 nodes\n",
      "added 23000 nodes\n",
      "added 24000 nodes\n",
      "added 25000 nodes\n",
      "added 26000 nodes\n",
      "added 27000 nodes\n"
     ]
    }
   ],
   "source": [
    "import random\n",
    "n = 27700\n",
    "m = 13\n",
    "graph = graph_degrees.make_complete_graph(m)\n",
    "field = [k for k in graph for __ in range(m)]\n",
    "for new_node in range(m, n):\n",
    "    nodes = set(random.choice(field) for __ in range(m))\n",
    "    field = field + list(nodes) + [new_node]\n",
    "    graph[new_node] = nodes\n",
    "    if max(graph) % 1000 == 0:\n",
    "        print('added {} nodes'.format(max(graph)))\n"
   ]
  },
  {
   "cell_type": "code",
   "execution_count": 41,
   "metadata": {
    "collapsed": false
   },
   "outputs": [],
   "source": [
    "#graph_degrees.in_degree_distribution(graph)"
   ]
  },
  {
   "cell_type": "code",
   "execution_count": 32,
   "metadata": {
    "collapsed": false
   },
   "outputs": [
    {
     "data": {
      "text/plain": [
       "[0, 1, 2, 3, 4, 5, 6, 7, 8, 9, 10, 11, 12]"
      ]
     },
     "execution_count": 32,
     "metadata": {},
     "output_type": "execute_result"
    }
   ],
   "source": [
    "list(k for k in graph)"
   ]
  },
  {
   "cell_type": "code",
   "execution_count": 33,
   "metadata": {
    "collapsed": false
   },
   "outputs": [
    {
     "data": {
      "text/plain": [
       "{0: {1, 2, 3, 4, 5, 6, 7, 8, 9, 10, 11},\n",
       " 1: {0, 2, 3, 4, 5, 6, 7, 8, 9, 10, 11},\n",
       " 2: {0, 1, 3, 4, 5, 6, 7, 8, 9, 10, 11},\n",
       " 3: {0, 1, 2, 4, 5, 6, 7, 8, 9, 10, 11},\n",
       " 4: {0, 1, 2, 3, 5, 6, 7, 8, 9, 10, 11},\n",
       " 5: {0, 1, 2, 3, 4, 6, 7, 8, 9, 10, 11},\n",
       " 6: {0, 1, 2, 3, 4, 5, 7, 8, 9, 10, 11},\n",
       " 7: {0, 1, 2, 3, 4, 5, 6, 8, 9, 10, 11},\n",
       " 8: {0, 1, 2, 3, 4, 5, 6, 7, 9, 10, 11},\n",
       " 9: {0, 1, 2, 3, 4, 5, 6, 7, 8, 10, 11},\n",
       " 10: {0, 1, 2, 3, 4, 5, 6, 7, 8, 9, 11},\n",
       " 11: {0, 1, 2, 3, 4, 5, 6, 7, 8, 9, 10},\n",
       " 12: {0, 2, 3, 4, 6, 7, 9, 11}}"
      ]
     },
     "execution_count": 33,
     "metadata": {},
     "output_type": "execute_result"
    }
   ],
   "source": [
    "graph"
   ]
  },
  {
   "cell_type": "code",
   "execution_count": null,
   "metadata": {
    "collapsed": true
   },
   "outputs": [],
   "source": []
  },
  {
   "cell_type": "code",
   "execution_count": null,
   "metadata": {
    "collapsed": true
   },
   "outputs": [],
   "source": []
  },
  {
   "cell_type": "code",
   "execution_count": null,
   "metadata": {
    "collapsed": true
   },
   "outputs": [],
   "source": []
  },
  {
   "cell_type": "code",
   "execution_count": null,
   "metadata": {
    "collapsed": true
   },
   "outputs": [],
   "source": []
  }
 ],
 "metadata": {
  "kernelspec": {
   "display_name": "Python 3",
   "language": "python",
   "name": "python3"
  },
  "language_info": {
   "codemirror_mode": {
    "name": "ipython",
    "version": 3
   },
   "file_extension": ".py",
   "mimetype": "text/x-python",
   "name": "python",
   "nbconvert_exporter": "python",
   "pygments_lexer": "ipython3",
   "version": "3.4.2"
  }
 },
 "nbformat": 4,
 "nbformat_minor": 0
}
